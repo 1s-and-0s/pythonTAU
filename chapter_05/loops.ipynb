{
 "cells": [
  {
   "cell_type": "markdown",
   "metadata": {},
   "source": [
    "### A loop is a useful construct for when you'd like to repeat the same actions any number of times.\n",
    "### Whether you have a list or a dictionary, with 100 items or a million items, you can use a loop to help you work with that data.\n",
    "\n",
    "### For Loops\n",
    "\n",
    "A *for loop* is useful when you'd like to iterate over each item in a list. The for loop allows you to repeat your action for every item in the list or for a specified number of items in the list.\n",
    "\n",
    "For example, in this ' list ' of fruits, we have an apple, an orange, and a pear.\n",
    "\n",
    "\n"
   ]
  },
  {
   "cell_type": "code",
   "execution_count": 3,
   "metadata": {},
   "outputs": [
    {
     "name": "stdout",
     "output_type": "stream",
     "text": [
      "Would you like apple ?\n",
      "Would you like orange ?\n",
      "Would you like pears ?\n",
      "Would you like cherries ?\n",
      "Would you like grapes ?\n"
     ]
    }
   ],
   "source": [
    "fruits = [\"apple\", \"orange\", \"pears\", \"cherries\", \"grapes\"]\n",
    "\n",
    "\n",
    "for i in fruits:\n",
    "    print(\"Would you like {} ?\".format(i))\n",
    "\n"
   ]
  },
  {
   "cell_type": "markdown",
   "metadata": {},
   "source": [
    "Another example of a for loop that we can try is looping over a range of numbers.\n",
    "\n",
    "We'll take a look at the Python range function as we do this.\n",
    "\n",
    "First, we'll start with our for statement and then we'll name our individual variable number.\n",
    "\n",
    "What we are asking this loop to do is to go over a range of numbers — range is a built-in Python function.\n",
    "\n",
    "We can assign the range by assigning the first number, a comma, and then assigning the ending number. The ending number is not included.\n"
   ]
  },
  {
   "cell_type": "code",
   "execution_count": 4,
   "metadata": {},
   "outputs": [
    {
     "name": "stdout",
     "output_type": "stream",
     "text": [
      "Number 1\n",
      "Number 2\n",
      "Number 3\n",
      "Number 4\n",
      "Number 5\n",
      "Number 6\n",
      "Number 7\n",
      "Number 8\n",
      "Number 9\n",
      "Number 10\n"
     ]
    }
   ],
   "source": [
    "for number in range(1,11):\n",
    "    print(\"Number {}\".format(number))"
   ]
  },
  {
   "cell_type": "markdown",
   "metadata": {},
   "source": [
    "### While Loops\n",
    "\n",
    "A while loop will run any time a condition remains true.\n",
    "\n",
    "In this example, you'll see that we've set the temperature variable to equal 37."
   ]
  },
  {
   "cell_type": "code",
   "execution_count": null,
   "metadata": {},
   "outputs": [],
   "source": [
    "temp_f = 40\n",
    "\n",
    "while temp_f > 32:\n",
    "    print(\"The water is {} degrees.\".format(temp-f))"
   ]
  },
  {
   "cell_type": "markdown",
   "metadata": {},
   "source": [
    "An infinite loop is a loop that doesn't have any stopping point. It just keeps going.\n",
    "\n",
    "So, I'm going to go ahead and stop this loop and clear the console.\n",
    "\n",
    "I need to create a way for this loop to stop and for the temperature variable to change.\n",
    "\n",
    "For this sample, I'm going to use the Python decrement operator (-=), and all that does is decrease the variable by whatever number I choose.\n",
    "\n",
    "I'm going to choose to decrease the temperature by 1 for this script."
   ]
  },
  {
   "cell_type": "code",
   "execution_count": 10,
   "metadata": {},
   "outputs": [
    {
     "name": "stdout",
     "output_type": "stream",
     "text": [
      "The water is 40 degrees.\n",
      "The water is 39 degrees.\n",
      "The water is 38 degrees.\n",
      "The water is 37 degrees.\n",
      "The water is 36 degrees.\n",
      "The water is 35 degrees.\n",
      "The water is 34 degrees.\n",
      "The water is 33 degrees.\n"
     ]
    }
   ],
   "source": [
    "temp_f = 40\n",
    "\n",
    "while temp_f > 32:\n",
    "    print(\"The water is {} degrees.\".format(temp_f))\n",
    "    temp_f -= 1"
   ]
  },
  {
   "cell_type": "markdown",
   "metadata": {},
   "source": [
    "So, this is a simple example of how a while loop works."
   ]
  },
  {
   "cell_type": "markdown",
   "metadata": {},
   "source": [
    "### Loop Control\n",
    "\n",
    "You can control the flow of a loop with some loop statements. Python includes break, continue, and pass.\n",
    "\n",
    "    The break statement indicates that when you see it, the loop should end and go on to the next statement in the program that is outside of the loop.\n",
    "\n",
    "    The continue statement skips the current part of the loop and moves on to the next part of the loop.\n",
    "\n",
    "    The pass statement skips any part of the loop where pass appears. This is best used for testing code, but make sure you don't forget to remove the pass statement when you're ready for your code to go into production.\n",
    "\n",
    "\n",
    "Now we'll take a look at the ways that you can control loops.\n",
    "\n",
    "We will look at 3 statements: the break, the continue, and the pass.\n",
    "\n",
    "We'll use the loop code that we used for the while loop.\n",
    "\n",
    "\n",
    "\n",
    "What I'm going to do is say if our temperature is equal to 33, then break the loop.\n",
    "\n",
    "Now I'll go ahead and run the code.\n",
    "\n",
    "You'll notice that everything before 33 degrees printed out.\n",
    "***\n"
   ]
  },
  {
   "cell_type": "markdown",
   "metadata": {},
   "source": [
    "### Loop Control: Break\n",
    "\n",
    "First, we'll try out the break.\n",
    "\n",
    "We can add the break by adding an if statement.\n",
    "\n",
    "What I'm going to do is say if our temperature is equal to 33, then break the loop.\n",
    "\n",
    "Now I'll go ahead and run the code.\n",
    "\n",
    "You'll notice that everything before 33 degrees printed out.\n"
   ]
  },
  {
   "cell_type": "code",
   "execution_count": 12,
   "metadata": {},
   "outputs": [
    {
     "name": "stdout",
     "output_type": "stream",
     "text": [
      "The water is 40 degrees.\n",
      "The water is 39 degrees.\n",
      "The water is 38 degrees.\n",
      "The water is 37 degrees.\n",
      "The water is 36 degrees.\n",
      "The water is 35 degrees.\n",
      "The water is 34 degrees.\n"
     ]
    }
   ],
   "source": [
    "temp_f = 40\n",
    "\n",
    "while temp_f > 32:\n",
    "    print(\"The water is {} degrees.\".format(temp_f))\n",
    "    temp_f -= 1\n",
    "    if temp_f == 33:\n",
    "        break"
   ]
  },
  {
   "cell_type": "markdown",
   "metadata": {},
   "source": [
    "And once the temp became equal to 33, the print statement stopped printing and the loop stopped running.\n",
    "***\n"
   ]
  },
  {
   "cell_type": "markdown",
   "metadata": {},
   "source": [
    "### Loop Control: Continue\n",
    "\n",
    "Now we'll work with the continue function.\n",
    "\n",
    "We'll use the continue function in a for loop. We'll add a print statement to help us debug."
   ]
  },
  {
   "cell_type": "code",
   "execution_count": null,
   "metadata": {},
   "outputs": [],
   "source": [
    "for number in range(1,11):\n",
    "    if number == 7:\n",
    "        print(\"We're skipping number 7.\")\n",
    "        continue\n",
    "    print(\"This is the number {}.\".format(number))\n"
   ]
  },
  {
   "cell_type": "markdown",
   "metadata": {},
   "source": [
    "**Indenting**\n",
    "\n",
    "Please make notice of the fact that we've indented all of the code that we want to happen in our if statement another 4 spaces. Then the code that we'd like to happen for every number is aligned with the indent of the if statement. Indenting is one of those things that can be really tricky to get used to, but the more you practice, the easier it gets."
   ]
  },
  {
   "cell_type": "markdown",
   "metadata": {},
   "source": [
    "Now we'll go ahead and run this code.\n",
    "\n",
    "What we're looking for is the output that skips the number 7 and prints the line that we've placed instead; but allows the code of our loop to finish over the rest of the numbers."
   ]
  },
  {
   "cell_type": "code",
   "execution_count": 13,
   "metadata": {},
   "outputs": [
    {
     "name": "stdout",
     "output_type": "stream",
     "text": [
      "This is the number 1.\n",
      "This is the number 2.\n",
      "This is the number 3.\n",
      "This is the number 4.\n",
      "This is the number 5.\n",
      "This is the number 6.\n",
      "We're skipping number 7.\n",
      "This is the number 8.\n",
      "This is the number 9.\n",
      "This is the number 10.\n"
     ]
    }
   ],
   "source": [
    "for number in range(1,11):\n",
    "    if number == 7:\n",
    "        print(\"We're skipping number 7.\")\n",
    "        continue\n",
    "    print(\"This is the number {}.\".format(number))\n"
   ]
  },
  {
   "cell_type": "markdown",
   "metadata": {},
   "source": [
    "You can see we've printed the print line for every number except the number 7 which prints the line in our if statement, but then the loop continues on.\n",
    "\n",
    "__Where our `break` statement ended the loop completely once the if condition was met, the `continue` statement does whatever is needed when the if condition is met but then continues the rest of the loop.__\n",
    "***"
   ]
  },
  {
   "cell_type": "markdown",
   "metadata": {},
   "source": [
    "### Loop Control: Pass\n",
    "\n",
    "Finally, we'll work with the `pass` statement. The `pass` statement allows us to skip over entire parts of our code.\n",
    "\n",
    "We'll use the `for` loop as our example again, implementing the `pass` statement instead of the `continue` statement.\n",
    "\n",
    "Again, please note the indentation levels of the `pass` and the `print` statements within the `if` and the `else` block."
   ]
  },
  {
   "cell_type": "code",
   "execution_count": 14,
   "metadata": {},
   "outputs": [
    {
     "name": "stdout",
     "output_type": "stream",
     "text": [
      "The number is 1.\n",
      "The number is 2.\n",
      "The number is 4.\n",
      "The number is 5.\n",
      "The number is 6.\n",
      "The number is 7.\n",
      "The number is 8.\n",
      "The number is 9.\n",
      "The number is 10.\n"
     ]
    }
   ],
   "source": [
    "for number in range(1,11):\n",
    "    if number == 3:\n",
    "        pass\n",
    "    else:\n",
    "        print(\"The number is {}.\".format(number))\n"
   ]
  },
  {
   "cell_type": "markdown",
   "metadata": {},
   "source": [
    "Let's take a look and see what output the pass statement provides.\n",
    "\n",
    "You'll notice that the number 3 is skipped completely, so there is no print statement for the number 3.\n",
    "\n",
    "Every other number in the range is printed with the sentence that we provided."
   ]
  }
 ],
 "metadata": {
  "interpreter": {
   "hash": "aee8b7b246df8f9039afb4144a1f6fd8d2ca17a180786b69acc140d282b71a49"
  },
  "kernelspec": {
   "display_name": "Python 3.10.3 64-bit",
   "language": "python",
   "name": "python3"
  },
  "language_info": {
   "codemirror_mode": {
    "name": "ipython",
    "version": 3
   },
   "file_extension": ".py",
   "mimetype": "text/x-python",
   "name": "python",
   "nbconvert_exporter": "python",
   "pygments_lexer": "ipython3",
   "version": "3.10.3"
  },
  "orig_nbformat": 4
 },
 "nbformat": 4,
 "nbformat_minor": 2
}
