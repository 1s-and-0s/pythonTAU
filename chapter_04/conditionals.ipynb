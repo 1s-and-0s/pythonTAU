{
 "cells": [
  {
   "cell_type": "markdown",
   "metadata": {},
   "source": [
    "Decision Structures: Conditionals\n",
    "\n",
    "We'll start our investigation into conditionals by taking a look at this decision tree.\n",
    "\n",
    "\n",
    "\n",
    "This program asks a user how much their luggage weighs.\n",
    "\n",
    "    Then it says if the luggage weight is less than 20, print “no fee”.\n",
    "\n",
    "    And if the luggage weight is greater than or equal to 20, print “please pay fee”.\n",
    "\n",
    "\n",
    "In order to make a program that can make decisions we need to learn about 2 things: comparison operators and conditional statements.\n",
    "\n",
    "\n",
    "Comparison Operators\n",
    "\n",
    "Comparison operators are ways for us to make comparisons between one or more items in any of our programs.\n",
    "\n",
    "If you recall some of your early math classes, then you'll have familiarity with some of these operators.\n",
    "\n"
   ]
  },
  {
   "cell_type": "markdown",
   "metadata": {},
   "source": [
    "We're going to try testing the less than (<) comparison operator and see if it evaluates to the Boolean True or the Boolean False.\n",
    "\n",
    "        Boolean's True and False are keywords in Python. If you want to use those statements then you need to use a capital T, for True or a capital F, for False."
   ]
  },
  {
   "cell_type": "code",
   "execution_count": 4,
   "metadata": {},
   "outputs": [
    {
     "name": "stdout",
     "output_type": "stream",
     "text": [
      "False\n"
     ]
    }
   ],
   "source": [
    "print(1<1)"
   ]
  },
  {
   "cell_type": "code",
   "execution_count": 6,
   "metadata": {},
   "outputs": [
    {
     "name": "stdout",
     "output_type": "stream",
     "text": [
      "True\n"
     ]
    }
   ],
   "source": [
    "print(1 <= 1)"
   ]
  },
  {
   "cell_type": "code",
   "execution_count": 9,
   "metadata": {},
   "outputs": [
    {
     "name": "stdout",
     "output_type": "stream",
     "text": [
      "False\n"
     ]
    }
   ],
   "source": [
    "print(1 > 1)"
   ]
  },
  {
   "cell_type": "code",
   "execution_count": 11,
   "metadata": {},
   "outputs": [
    {
     "name": "stdout",
     "output_type": "stream",
     "text": [
      "True\n"
     ]
    }
   ],
   "source": [
    "print(1 >= 1)"
   ]
  },
  {
   "cell_type": "code",
   "execution_count": 13,
   "metadata": {},
   "outputs": [
    {
     "name": "stdout",
     "output_type": "stream",
     "text": [
      "True\n"
     ]
    }
   ],
   "source": [
    "print(1 == 1)"
   ]
  },
  {
   "cell_type": "code",
   "execution_count": 14,
   "metadata": {},
   "outputs": [
    {
     "name": "stdout",
     "output_type": "stream",
     "text": [
      "False\n"
     ]
    }
   ],
   "source": [
    "print(1 != 1)"
   ]
  },
  {
   "cell_type": "markdown",
   "metadata": {},
   "source": [
    "+ Control Structures: if, elif, else\n",
    "\n",
    "        If, else/if and else — if, elif and else — are control structures in Python.\n",
    "\n",
    "            The if statement, used by itself, shows code that should run only if certain conditions are present.\n",
    "\n",
    "            The elif statement shows code that should run when conditions before are not met, and many conditions could possibly be met.\n",
    "\n",
    "            The elif code is run in the order that it appears.\n",
    "\n",
    "            The else statement is used close out the if, elif, else code block and can comprise anything that you can think of that the user might not do."
   ]
  },
  {
   "cell_type": "code",
   "execution_count": 15,
   "metadata": {},
   "outputs": [
    {
     "name": "stdout",
     "output_type": "stream",
     "text": [
      "Hi, Kingston, let's have lunch soon!\n"
     ]
    }
   ],
   "source": [
    "name = input(\"What's your name? \")\n",
    "if name == \"Jessica\":\n",
    "    print(\"Hello, nice to see you {}\".format(name))\n",
    "elif name == \"Danielle\":\n",
    "    print(\"Hello, you are a great person!\")\n",
    "elif name == \"Mariah\":\n",
    "    print(\"You're not Mariah!\")\n",
    "elif name == \"Kingston\":\n",
    "    print(\"Hi, {}, let's have lunch soon!\".format(name))\n",
    "else:\n",
    "    print(\"Have a nice day!\")"
   ]
  }
 ],
 "metadata": {
  "interpreter": {
   "hash": "aee8b7b246df8f9039afb4144a1f6fd8d2ca17a180786b69acc140d282b71a49"
  },
  "kernelspec": {
   "display_name": "Python 3.10.3 64-bit",
   "language": "python",
   "name": "python3"
  },
  "language_info": {
   "codemirror_mode": {
    "name": "ipython",
    "version": 3
   },
   "file_extension": ".py",
   "mimetype": "text/x-python",
   "name": "python",
   "nbconvert_exporter": "python",
   "pygments_lexer": "ipython3",
   "version": "3.10.3"
  },
  "orig_nbformat": 4
 },
 "nbformat": 4,
 "nbformat_minor": 2
}
