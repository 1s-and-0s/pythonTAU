{
 "cells": [
  {
   "cell_type": "code",
   "execution_count": 1,
   "metadata": {},
   "outputs": [
    {
     "name": "stdout",
     "output_type": "stream",
     "text": [
      "Janet is 58 years old, from Oklahama City\n"
     ]
    }
   ],
   "source": [
    "def user_info(name, age, city):\n",
    "\n",
    "    '''This function prints name, age, and city from an argument provided to the function.'''\n",
    "\n",
    "    print(\"{} is {} years old, from {}\".format(name, age, city))\n",
    "\n",
    "user_info(\"Janet\", 58, \"Oklahama City\")\n"
   ]
  },
  {
   "cell_type": "markdown",
   "metadata": {},
   "source": [
    "positional arguments"
   ]
  },
  {
   "cell_type": "code",
   "execution_count": 2,
   "metadata": {},
   "outputs": [
    {
     "ename": "TypeError",
     "evalue": "user_info() missing 1 required positional argument: 'city'",
     "output_type": "error",
     "traceback": [
      "\u001b[0;31m---------------------------------------------------------------------------\u001b[0m",
      "\u001b[0;31mTypeError\u001b[0m                                 Traceback (most recent call last)",
      "\u001b[1;32m/Users/dude/kod3/pythonTAU/chapter_03/arg_kwarg.ipynb Cell 2'\u001b[0m in \u001b[0;36m<cell line: 7>\u001b[0;34m()\u001b[0m\n\u001b[1;32m      <a href='vscode-notebook-cell:/Users/dude/kod3/pythonTAU/chapter_03/arg_kwarg.ipynb#ch0000001?line=2'>3</a>\u001b[0m     \u001b[39m'''This function prints name, age, and city from an argument provided to the function.'''\u001b[39;00m\n\u001b[1;32m      <a href='vscode-notebook-cell:/Users/dude/kod3/pythonTAU/chapter_03/arg_kwarg.ipynb#ch0000001?line=4'>5</a>\u001b[0m     \u001b[39mprint\u001b[39m(\u001b[39m\"\u001b[39m\u001b[39m{}\u001b[39;00m\u001b[39m is \u001b[39m\u001b[39m{}\u001b[39;00m\u001b[39m years old, from \u001b[39m\u001b[39m{}\u001b[39;00m\u001b[39m\"\u001b[39m\u001b[39m.\u001b[39mformat(name, age, city))\n\u001b[0;32m----> <a href='vscode-notebook-cell:/Users/dude/kod3/pythonTAU/chapter_03/arg_kwarg.ipynb#ch0000001?line=6'>7</a>\u001b[0m user_info(\u001b[39m58\u001b[39;49m, \u001b[39m\"\u001b[39;49m\u001b[39mOklahama City\u001b[39;49m\u001b[39m\"\u001b[39;49m)\n",
      "\u001b[0;31mTypeError\u001b[0m: user_info() missing 1 required positional argument: 'city'"
     ]
    }
   ],
   "source": [
    "def user_info(name, age, city):\n",
    "\n",
    "    '''This function prints name, age, and city from an argument provided to the function.'''\n",
    "\n",
    "    print(\"{} is {} years old, from {}\".format(name, age, city))\n",
    "\n",
    "user_info(58, \"Oklahama City\")\n"
   ]
  },
  {
   "cell_type": "markdown",
   "metadata": {},
   "source": [
    "And so, it's telling me I am missing 1 required positional argument and that's city, so Python doesn't check the input to see that it matches what we might expect.\n",
    "\n",
    "Python just has a name, an age, and a city, 3 variables, and those variables are waiting to get information assigned to them, so that way that the function can run in the way that it's intended to run.\n",
    "\n",
    "So here Python is reading this is the name, this is the age and it's telling me that I'm missing the city.\n",
    "\n",
    "These are positional arguments because Python is reading these arguments_ in order_, in the position that they are given in the function definition."
   ]
  },
  {
   "cell_type": "markdown",
   "metadata": {},
   "source": [
    "keyword arguments"
   ]
  },
  {
   "cell_type": "markdown",
   "metadata": {},
   "source": [
    "We can use something called keyword arguments in order to overcome some of the limitations of positional arguments, if we have many arguments that we would like to provide to a function, or many options that we could provide, but we don't necessarily need to provide everything all the time.\n",
    "\n",
    "Let's take a look at how keyword arguments differ from positional arguments.\n",
    "\n",
    "First of all, we can set some defaults when we're using keyword arguments, so that way that our function knows what to do if we don't provide the value that it's looking for, for any of the arguments.\n",
    "\n",
    "    So, in this fictional example, everybody who does not have a city entered in the function will now be from Tucson.\n",
    "\n",
    "    The default age for anybody who doesn't have an age will be zero years old.\n",
    "\n",
    "    And we'll go ahead and leave the name as an argument that will require definition within our function.\n",
    "\n",
    "So, since we have default for both age and city, we can go ahead and test to ensure that this is working as expected by providing a name argument and leaving the other 2 arguments blank.\n"
   ]
  },
  {
   "cell_type": "code",
   "execution_count": 3,
   "metadata": {},
   "outputs": [
    {
     "name": "stdout",
     "output_type": "stream",
     "text": [
      "Janet is 58 years old, from Oklahama City\n",
      "Micah is 0 years old, from Tucson\n"
     ]
    }
   ],
   "source": [
    "#args & kwargs\n",
    "def user_info(name, age=0, city=\"Tucson\"):\n",
    "\n",
    "    '''This functoin prints name, age, and city from an argument provided to the function.'''\n",
    "\n",
    "    print(\"{} is {} years old, from {}\".format(name, age, city))\n",
    "\n",
    "user_info(\"Janet\", 58, \"Oklahama City\")\n",
    "\n",
    "user_info(\"Micah\")\n"
   ]
  },
  {
   "cell_type": "code",
   "execution_count": 4,
   "metadata": {},
   "outputs": [
    {
     "name": "stdout",
     "output_type": "stream",
     "text": [
      "Janet is 58 years old, from Oklahama City\n",
      "Micah is 0 years old, from Tucson\n",
      "Kadeem is 56 years old, from Tucson\n"
     ]
    }
   ],
   "source": [
    "def user_info(name, age=0, city=\"Tucson\"):\n",
    "    '''This function prints name, age, and city from an argument provided to the function.'''\n",
    "\n",
    "    print(\"{} is {} years old, from {}\".format(name, age, city))\n",
    "\n",
    "\n",
    "user_info(\"Janet\", 58, \"Oklahama City\")\n",
    "user_info(\"Micah\")\n",
    "user_info(age=56, name=\"Kadeem\")\n"
   ]
  },
  {
   "cell_type": "markdown",
   "metadata": {},
   "source": [
    "As long as you have a default specified for anything you're not providing, you will be able to overwrite the values of the defaults that you do provide and any arguments that are required, of course you'll need to provide as well.\n",
    "\n",
    "\n",
    "So, we can go ahead and take a look.\n",
    "\n",
    "    We've provided a name\n",
    "\n",
    "    We've said that Kadeen is 56 years old, so we've overwritten the default of zero\n",
    "\n",
    "    And we've continued to use the default location\n",
    "\n"
   ]
  },
  {
   "cell_type": "markdown",
   "metadata": {},
   "source": [
    "*args & **kwargs\n",
    "\n",
    "Now that we know what positional and keyword arguments do, let's learn about the special *args and **kwargs syntax and Python.\n",
    "\n",
    "The *args allows a function to take any number of positional arguments.\n",
    "\n",
    "The **kwargs allows a function to take any number of keyword arguments.\n",
    "\n",
    "Any formal or required arguments that you wish to pass into a function, must be passed before *args and **kwargs."
   ]
  },
  {
   "cell_type": "code",
   "execution_count": 5,
   "metadata": {},
   "outputs": [
    {
     "name": "stdout",
     "output_type": "stream",
     "text": [
      "Jess Ingrass works at Teach Code. Her email is mail @ mail.com.\n"
     ]
    }
   ],
   "source": [
    "# *args and **kwargs\n",
    "def application(fname, lname, email, company, *args, **kwargs):\n",
    "    print(\"{} {} works at {}. Her email is {}.\".format(fname, lname, company, email))\n",
    "\n",
    "application(\"Jess\", \"Ingrass\", \"mail @ mail.com\", \"Teach Code\", 75000, hire_date = \"September 2010\")\n"
   ]
  },
  {
   "cell_type": "markdown",
   "metadata": {},
   "source": [
    "In this example, you can see that we have the fname, lname, email, and company formal positional arguments followed by the *args and **kwargs.\n",
    "\n",
    "When we use the function, we pass the arguments into the function first, starting with the required arguments.\n",
    "\n",
    "Then we pass in a *arg as a salary for the employee and a **kwarg as the hire date."
   ]
  }
 ],
 "metadata": {
  "interpreter": {
   "hash": "aee8b7b246df8f9039afb4144a1f6fd8d2ca17a180786b69acc140d282b71a49"
  },
  "kernelspec": {
   "display_name": "Python 3.10.3 64-bit",
   "language": "python",
   "name": "python3"
  },
  "language_info": {
   "codemirror_mode": {
    "name": "ipython",
    "version": 3
   },
   "file_extension": ".py",
   "mimetype": "text/x-python",
   "name": "python",
   "nbconvert_exporter": "python",
   "pygments_lexer": "ipython3",
   "version": "3.10.3"
  },
  "orig_nbformat": 4
 },
 "nbformat": 4,
 "nbformat_minor": 2
}
